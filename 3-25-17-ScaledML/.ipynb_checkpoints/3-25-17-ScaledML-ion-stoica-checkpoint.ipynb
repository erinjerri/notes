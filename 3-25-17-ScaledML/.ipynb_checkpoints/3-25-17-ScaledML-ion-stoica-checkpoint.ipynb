{
 "cells": [
  {
   "cell_type": "markdown",
   "metadata": {
    "deletable": true,
    "editable": true
   },
   "source": [
    "# Ion Stoica (UC Berkeley and Databricks) \n",
    " Distributed Machine Learning and the Berkeley RISE lab\n",
    "\n",
    "* architecture  - works w/ Ray etc. \n",
    "* use cases - ex Go, housing\n",
    "* specs"
   ]
  },
  {
   "cell_type": "markdown",
   "metadata": {
    "deletable": true,
    "editable": true
   },
   "source": [
    "# Specs\n",
    "## Reinforcement learning requirements\n",
    "* Process inputs form diff sensor in parallel and real time\n",
    "* Execute large number of rollots (sims)\n",
    "* Rollouts outcomes are used to update policy\n",
    "* Often policies implemented by DNNs"
   ]
  },
  {
   "cell_type": "markdown",
   "metadata": {
    "deletable": true,
    "editable": true
   },
   "source": [
    "# Ray goals\n",
    "* combine neural networks, planning, search, sims\n",
    "* heterogeneous tasks (azure not good bc assumes same amt of times): CPUs,GPUs, durations, computation\n",
    "* finegraned data and task dependencies, dynamic execution\n",
    "\n",
    "## Performance \n",
    "* Millions of tasks per sec, w/ msec leel latencies\n",
    "adapt changing work in RL\n",
    "\n",
    "## Ease of Use\n",
    "* minimal changes to parallelize existing Python \n",
    "\n",
    "# Ray architecture\n",
    "* Central control store\n",
    "* Stateless components\n",
    "* In-memory \n",
    "    * Leverage Arrow\n",
    "* Dist Scheduling\n",
    "* Prototype \n",
    "    * Python bindings\n",
    "    * C/C++ backend"
   ]
  },
  {
   "cell_type": "code",
   "execution_count": 6,
   "metadata": {
    "collapsed": false,
    "deletable": true,
    "editable": true
   },
   "outputs": [
    {
     "ename": "SyntaxError",
     "evalue": "invalid syntax (<ipython-input-6-eb663c05f86a>, line 6)",
     "output_type": "error",
     "traceback": [
      "\u001b[0;36m  File \u001b[0;32m\"<ipython-input-6-eb663c05f86a>\"\u001b[0;36m, line \u001b[0;32m6\u001b[0m\n\u001b[0;31m    state simulator.intialize()\u001b[0m\n\u001b[0m                  ^\u001b[0m\n\u001b[0;31mSyntaxError\u001b[0m\u001b[0;31m:\u001b[0m invalid syntax\n"
     ]
    }
   ],
   "source": [
    "# generates a rollout \n",
    "@ray.remote\n",
    "def simulation(policy):\n",
    "    trajectory = []\n",
    "# sequence of states and rewards\n",
    "    state simulator.intialize()\n",
    "    for i in range(T):\n",
    "        action = policy.compute(state)\n",
    "        state, reward=simulator.step(action)\n",
    "        trajectory.append((state, reward)\n",
    "            return trajectory)"
   ]
  },
  {
   "cell_type": "code",
   "execution_count": 7,
   "metadata": {
    "collapsed": false,
    "deletable": true,
    "editable": true
   },
   "outputs": [
    {
     "ename": "SyntaxError",
     "evalue": "invalid syntax (<ipython-input-7-4b8ecedc4132>, line 2)",
     "output_type": "error",
     "traceback": [
      "\u001b[0;36m  File \u001b[0;32m\"<ipython-input-7-4b8ecedc4132>\"\u001b[0;36m, line \u001b[0;32m2\u001b[0m\n\u001b[0;31m    trajecories = ]simulation.remote(policy) for _ in range(10000)]\u001b[0m\n\u001b[0m                  ^\u001b[0m\n\u001b[0;31mSyntaxError\u001b[0m\u001b[0;31m:\u001b[0m invalid syntax\n"
     ]
    }
   ],
   "source": [
    "#update policy\n",
    "trajecories = ]simulation.remote(policy) for _ in range(10000)]\n",
    "while True;\n",
    "#wait for next traj to become ready\n",
    "trajectory, trajectories = ray.wait(trajectories)\n",
    "policy.update(ray.get(trajectory)) #update model\n",
    "#ray.get - gets object\n",
    "#start new simulation\n",
    "trajectories.append(simulation.remote(policy))\n",
    "#calling from remote worker                                 "
   ]
  },
  {
   "cell_type": "markdown",
   "metadata": {
    "deletable": true,
    "editable": true
   },
   "source": [
    "## Infographic for Clipper - serving and inference system\n",
    "#similar to react-store/controller (front-end common interface) \n",
    "#SRDS: Applications frameworks\n",
    "\n",
    "## Flexibility\n",
    "* Uniform interfaces across models\n",
    "* Model life cycle management\n",
    "\n",
    "## Performance\n",
    "* Prediction caching\n",
    "* Ensembles, cascading models\n",
    "* Control latency-accuracy tradeoff"
   ]
  },
  {
   "cell_type": "markdown",
   "metadata": {
    "deletable": true,
    "editable": true
   },
   "source": [
    "Learning control hierarchies: speedup learning\n",
    "\n",
    "Many apps consstis of a sequence of decision/actions\n",
    "* Driving: turn wheel, step on gas or break, signal\n",
    "\n",
    "Challenge: huge state and action spaces\n",
    "* Expensive to learn and train\n",
    "\n",
    "Approach; Identify seq of actions, called options\n",
    "* Driving: change lines\n",
    "* Adv: reduce dramatically action space\n",
    "* faster learning \n",
    "* most prior methods require human design, few end-to-end"
   ]
  },
  {
   "cell_type": "markdown",
   "metadata": {
    "deletable": true,
    "editable": true
   },
   "source": [
    "# Discovery Deep Options (DD)\n",
    "Compute gradients w/ respect to policy parameters\n",
    "Decouple levels and avoid joint training\n",
    "\n",
    "#Infographic: \n",
    "DDO - Level 1, DDO - Level 2  Level 3 - Deep RL \n",
    "\n"
   ]
  },
  {
   "cell_type": "markdown",
   "metadata": {
    "deletable": true,
    "editable": true
   },
   "source": [
    "# Shared Learning\n",
    "* Every cloud provider wants to provide ML as a Service (MLaaS)\n",
    "* Every enterprise wants to get quality prediciton on its data\n",
    "* Every cloud provider wants to learn across customers data to improve prediction\n",
    "* How can a cloud provider learn across customers and perf prediciton while preserving customers' data confidentiality\n",
    "\n",
    "# Infographic\n",
    "* Cloud provider ML as a Service (training and prediction)\n",
    "\n",
    "Right side\n",
    "*Enterprise customer\n",
    "Confidential Data => Prediction"
   ]
  },
  {
   "cell_type": "code",
   "execution_count": null,
   "metadata": {
    "collapsed": true,
    "deletable": true,
    "editable": true
   },
   "outputs": [],
   "source": []
  }
 ],
 "metadata": {
  "kernelspec": {
   "display_name": "Python 2",
   "language": "python",
   "name": "python2"
  },
  "language_info": {
   "codemirror_mode": {
    "name": "ipython",
    "version": 2
   },
   "file_extension": ".py",
   "mimetype": "text/x-python",
   "name": "python",
   "nbconvert_exporter": "python",
   "pygments_lexer": "ipython2",
   "version": "2.7.13"
  }
 },
 "nbformat": 4,
 "nbformat_minor": 2
}
