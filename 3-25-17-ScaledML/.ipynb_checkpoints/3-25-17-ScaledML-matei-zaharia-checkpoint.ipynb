{
 "cells": [
  {
   "cell_type": "markdown",
   "metadata": {
    "deletable": true,
    "editable": true
   },
   "source": [
    "### DAWN: Infastructure of Usable ML - Matei Zaharia (Co-Founder & CTO Databricks, UC Berkeley now teaching at Stanford)\n",
    "* Peter Bailis, Kunle Olukotun, Chris Re, Matei Zaharia\n",
    " \n",
    "Golden age of data\n",
    "* Img recog, NP, planning, info retrieval\n",
    "* Society-scale impact: autonomous vehicles, peronalized medicine, human trafficking\n",
    "no end in sight for ML\n",
    "\n",
    "*for hte best-funded, best trained eng teams\n",
    "\n",
    "## Bldg ML products is too hard\n",
    "* Major success (eg) Alpha Go, IMage Net\n",
    "* Req hundreds to thousands of engs\n",
    "* Huge effort in data prep, model tuin,g experimentation, and prodcutionaizing\n",
    "* Domain experts cannot easily or cheaply build ML products\n",
    "\n",
    "// Matei's comment// Systems problems more than math problems\n",
    "// Infographic: Confic, data collect, feat ext, data ext...ML is a small portion?"
   ]
  },
  {
   "cell_type": "markdown",
   "metadata": {
    "deletable": true,
    "editable": true
   },
   "source": [
    "### DAWN Q\n",
    "What if anyone w/ domain expertise could build their own productionquality ML products? \n",
    "* Without a PhD in ML\n",
    "* Without being an expert in systems\n",
    "* W/o understanding the latest hardware\n",
    "It's happened before\n",
    "\n",
    "# It's happened before - Search:\n",
    "* Before: Decades of research on info retrieval, index,es ranking etc.\n",
    "* After: \n",
    "    * Any dev can add serach to an app by linkin a lib (Solr, Lucene).\n",
    "    * everyone (non-exp users) uses search\n",
    "    \n",
    "# It's happened before - SQL:\n",
    "* Before: raw access to disk, manual layout of records, network databases (CODASYL)\n",
    "* After: SQL forms basi for transactional engines, data warehousing, BI tools"
   ]
  },
  {
   "cell_type": "markdown",
   "metadata": {
    "deletable": true,
    "editable": true
   },
   "source": [
    "### DAWN Stack infographic\n",
    "* Ex: MacroBase for Continuous Analytics\n",
    "* E2E sys to prioritze user attention\n",
    "* Multi Dim Data streams -> MacroBase -> Anomalies + Explanations"
   ]
  },
  {
   "cell_type": "markdown",
   "metadata": {
    "deletable": true,
    "editable": true
   },
   "source": [
    "### Macrobase Infographic\n",
    "* Feature transformation\n",
    "* Outlier detection\n",
    "* Result explanation\n",
    "* Alerts / reports\n",
    "* Find distributed correlated attributes\n",
    "\n",
    "### E2E sys to prioritze user\n",
    "\n",
    "No ML expertise needed: macrobase uses general models and tunes them automatically \n",
    "    *no separate step for production use\n",
    "    *co-design from algorithms to HW\n",
    "    *early users: atuomative, cloud, mobile apps, manufacturing\n",
    "\n",
    "[MacroBase: A Search Engine for Fast Data] (http://github.com/stanford-futuredata/macrobase)"
   ]
  },
  {
   "cell_type": "markdown",
   "metadata": {
    "deletable": true,
    "editable": true
   },
   "source": [
    "# Weld: Rethinking the Interface to Data Analytics LIbraries\n",
    "Standard approach: users combine libraries using fucntion calls that pass data via memory\n",
    "    // Combine them using function calls. WRite data in memory, function, pass into your data.\n",
    "\n",
    "Problem: for data-intesenive apps, data movemen cost dominants modern hardware.\n",
    "// 5-30x slowdowns in NumPy, Spark, TF = hella slow\n",
    "\n",
    "Weld's Approach: See infograhpic\n",
    "like Cuda or openCL across diff libraries. Diverse analtyics Tasks, whatever functions you combine, generate good E2D efficient code\n",
    "\n",
    "[Weld Website] (weld.stanford.edu)"
   ]
  },
  {
   "cell_type": "markdown",
   "metadata": {
    "deletable": true,
    "editable": true
   },
   "source": [
    "### Cross-Library Optimization\n",
    "## Pandas + NumPy - read in C or Cyton, highly optimzed\n",
    "//Any program takes from these libraries, have lot of room to improve\n",
    "* Enable Weld on Pandas and Numpy Libraries - 9x faster not CLO (Cross Library Optimization) \n",
    "* 30x with CLO\n",
    "* Spark SQL UDF"
   ]
  },
  {
   "cell_type": "markdown",
   "metadata": {
    "deletable": true,
    "editable": true
   },
   "source": [
    "### NoScope: Fast CNN-Based Video Queries\n",
    "Opportunity: CNNs allow more accurate queries on visual data than ever\n",
    "\n",
    "Challenge: processing 1 vieo in real time, requires $1000 GPU = expensive\n",
    "Result: same accuracy, but 100-3000x faster through\n",
    "    * science specific distillation\n",
    "    *temporal and spital locality\n",
    "\n",
    "[Website] (bit.ly/NoScopeArxiv)"
   ]
  },
  {
   "cell_type": "markdown",
   "metadata": {
    "deletable": true,
    "editable": true
   },
   "source": [
    "# The DAWN Stack\n",
    "// across verticals: Data Acqu / Feature Eng/ Model Trianing / Preproductionizing\n",
    "* Training data is key enabler, barrier to entry\n",
    "* The new new oil - training data \n",
    "\n",
    "How can we leverage data that's expensive to label at scale?\n"
   ]
  },
  {
   "cell_type": "markdown",
   "metadata": {
    "deletable": true,
    "editable": true
   },
   "source": [
    "# Snorkel's Approach: Weak Supervision\n",
    "1. User writes labeling functions, short programs that may not always give right label\n",
    "Regext to search in text\n",
    "2. Snorkel simultaneously learns noise in LFs and a noise-aware target model (eg LSTM)\n",
    "\n",
    "[Repo] (http://www.github.com/HazyResearch/snorkel)\n",
    "4 hours LF coding w/ bio experts: match months of hand-labeling\n",
    "to millions, not just to thousands of articles they had\n",
    "\n",
    "Tagger One (Dogan, 2012)     - NCBI Diseaes, CBR Diseaes\n",
    "Snorkel: Logistic Regression \n",
    "Snorkel: LSTM + Embeddings\n",
    "\n",
    "# DAWN: Bringing ML to everyone via novel technqces and interfaces that span hardware, systems, and algorithms\n",
    "[Link] (http://dawn.cs.stanford.edu)"
   ]
  },
  {
   "cell_type": "code",
   "execution_count": null,
   "metadata": {
    "collapsed": true,
    "deletable": true,
    "editable": true
   },
   "outputs": [],
   "source": [
    "Spatial: FPGA targeting"
   ]
  }
 ],
 "metadata": {
  "kernelspec": {
   "display_name": "Python 2",
   "language": "python",
   "name": "python2"
  },
  "language_info": {
   "codemirror_mode": {
    "name": "ipython",
    "version": 2
   },
   "file_extension": ".py",
   "mimetype": "text/x-python",
   "name": "python",
   "nbconvert_exporter": "python",
   "pygments_lexer": "ipython2",
   "version": "2.7.13"
  }
 },
 "nbformat": 4,
 "nbformat_minor": 2
}
