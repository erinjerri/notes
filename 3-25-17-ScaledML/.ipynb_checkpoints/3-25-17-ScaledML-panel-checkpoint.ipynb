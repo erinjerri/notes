{
 "cells": [
  {
   "cell_type": "markdown",
   "metadata": {
    "deletable": true,
    "editable": true
   },
   "source": [
    "## 14:00-15:00 Panel: Ziya Ma, Rajat Monga, DB Tsai, Ron Bodkin, Ben Lorica \n",
    "\n",
    "### Best interfaces for ML\n",
    "\n",
    "* High level of abstraction like Keras - Bodkin \n",
    "* ML w/ IoT and edge devices - OpenCL dominant one for edge devices, 50B edge devices - Ma (Intel) \n",
    "* High level Python, Java; Cuda for GPUs Rajat (Google)\n",
    "* Lower level not so much, might be used just on specific things depending on the user and area\n",
    "* XLA back-end for TF - take matices and additions operations linear algebra, accelerate from compiler level, batch normalization optimization\n",
    "\n",
    "### Given early stages of deep learning which non-DL deploying in production\n",
    "* DB Tsai (Netflix) - feature engineering, random forests\n",
    "* LDA, decision tree, random forests (Intel) \n",
    "\n",
    "### Fault Tolerance\n",
    "* Not necessarily important? \n",
    "* Need it for real-time training, important - (Intel) \n",
    "* Depends on defintion - Netflix\n",
    "\n",
    "### Next\n",
    "* Rajat (healthcare, robotics), systems engineering, feature engineering, improving infrastructure of pipeline overall (Netflix) Edge devices (Intel), RL (Ben)"
   ]
  },
  {
   "cell_type": "code",
   "execution_count": null,
   "metadata": {
    "collapsed": true,
    "deletable": true,
    "editable": true
   },
   "outputs": [],
   "source": [
    "\n"
   ]
  }
 ],
 "metadata": {
  "kernelspec": {
   "display_name": "Python 2",
   "language": "python",
   "name": "python2"
  },
  "language_info": {
   "codemirror_mode": {
    "name": "ipython",
    "version": 2
   },
   "file_extension": ".py",
   "mimetype": "text/x-python",
   "name": "python",
   "nbconvert_exporter": "python",
   "pygments_lexer": "ipython2",
   "version": "2.7.13"
  }
 },
 "nbformat": 4,
 "nbformat_minor": 2
}
