{
 "cells": [
  {
   "cell_type": "markdown",
   "metadata": {},
   "source": [
    "## Reza Zadeh (Stanford and Matroid) - Scaling Computer Vision at Matroid\n",
    "\n",
    "## Matroid\n",
    "* Studio for creating and using detectors. Like a metal dectector, a matroid detector finds things in media\n",
    "Growing detctory lib.\n",
    "Video player w/ CV core.\n",
    "* Feedback loop\n",
    "\n",
    "## Book to be released by EOY:\n",
    "* TF for DL from linear regression to reinformcent learning by Reza Bosagh Zadeh and Bhrath Ramsunder\n",
    "\n",
    "* A bank of macines manged by Kubernetes\n",
    "* Many models in a multi-tier cache\n",
    "* Architecture details in future talks"
   ]
  }
 ],
 "metadata": {
  "kernelspec": {
   "display_name": "Python 2",
   "language": "python",
   "name": "python2"
  },
  "language_info": {
   "codemirror_mode": {
    "name": "ipython",
    "version": 2
   },
   "file_extension": ".py",
   "mimetype": "text/x-python",
   "name": "python",
   "nbconvert_exporter": "python",
   "pygments_lexer": "ipython2",
   "version": "2.7.13"
  }
 },
 "nbformat": 4,
 "nbformat_minor": 2
}
